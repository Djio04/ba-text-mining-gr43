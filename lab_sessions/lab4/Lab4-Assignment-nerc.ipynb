{
 "cells": [
  {
   "cell_type": "markdown",
   "metadata": {},
   "source": [
    "# Lab4-Assignment about Named Entity Recognition and Classification\n",
    "\n",
    "This notebook describes the assignment of Lab 4 of the text mining course. We assume you have succesfully completed Lab1, Lab2 and Lab3 as welll. Especially Lab2 is important for completing this assignment.\n",
    "\n",
    "**Learning goals**\n",
    "* going from linguistic input format to representing it in a feature space\n",
    "* working with pretrained word embeddings\n",
    "* train a supervised classifier (SVM)\n",
    "* evaluate a supervised classifier (SVM)\n",
    "* learn how to interpret the system output and the evaluation results\n",
    "* be able to propose future improvements based on the observed results\n"
   ]
  },
  {
   "cell_type": "markdown",
   "metadata": {},
   "source": [
    "## Credits\n",
    "This notebook was originally created by [Marten Postma](https://martenpostma.github.io) and [Filip Ilievski](http://ilievski.nl) and adapted by Piek vossen"
   ]
  },
  {
   "cell_type": "markdown",
   "metadata": {},
   "source": [
    "## [Points: 18] Exercise 1 (NERC): Training and evaluating an SVM using CoNLL-2003"
   ]
  },
  {
   "cell_type": "markdown",
   "metadata": {},
   "source": [
    "**[4 point] a) Load the CoNLL-2003 training data using the *ConllCorpusReader* and create for both *train.txt* and *test.txt*:**\n",
    "\n",
    "    [2 points]  - a list of dictionaries representing the features for each training instances, e..g,\n",
    "    ```\n",
    "    [\n",
    "    {'words': 'EU', 'pos': 'NNP'}, \n",
    "    {'words': 'rejects', 'pos': 'VBZ'},\n",
    "    ...\n",
    "    ]\n",
    "    ```\n",
    "\n",
    "    [2 points] -the NERC labels associated with each training instance, e.g.,\n",
    "    dictionaries, e.g.,\n",
    "    ```\n",
    "    [\n",
    "    'B-ORG', \n",
    "    'O',\n",
    "    ....\n",
    "    ]\n",
    "    ```"
   ]
  },
  {
   "cell_type": "code",
   "execution_count": 14,
   "metadata": {},
   "outputs": [],
   "source": [
    "from nltk.corpus.reader import ConllCorpusReader\n",
    "### Adapt the path to point to the CONLL2003 folder on your local machine\n",
    "train = ConllCorpusReader('C:/Users/djiob/Documents/GitHub/ba-text-mining-gr43/lab_sessions/lab4/CONLL2003/CONLL2003', 'test.txt', ['words', 'pos', 'ignore', 'chunk'])\n",
    "\n",
    "training_features = []\n",
    "training_gold_labels = []\n",
    "\n",
    "for token, pos, ne_label in train.iob_words():\n",
    "    a_dict = {'words':token,'pos':pos}\n",
    "    training_features.append(a_dict)\n",
    "    training_gold_labels.append(ne_label)\n",
    "   "
   ]
  },
  {
   "cell_type": "code",
   "execution_count": 15,
   "metadata": {},
   "outputs": [],
   "source": [
    "### Adapt the path to point to the CONLL2003 folder on your local machine\n",
    "train = ConllCorpusReader('C:/Users/djiob/Documents/GitHub/ba-text-mining-gr43/lab_sessions/lab4/CONLL2003/CONLL2003', 'test.txt', ['words', 'pos', 'ignore', 'chunk'])\n",
    "test_features = []\n",
    "test_gold_labels = []\n",
    "for token, pos, ne_label in train.iob_words():\n",
    "    a_dict = {'words':token,'pos':pos}\n",
    "    test_features.append(a_dict)\n",
    "    test_gold_labels.append(ne_label)"
   ]
  },
  {
   "cell_type": "markdown",
   "metadata": {},
   "source": [
    "**[2 points] b) provide descriptive statistics about the training and test data:**\n",
    "* How many instances are in train and test?\n",
    "* Provide a frequency distribution of the NERC labels, i.e., how many times does each NERC label occur?\n",
    "* Discuss to what extent the training and test data is balanced (equal amount of instances for each NERC label) and to what extent the training and test data differ?\n",
    "\n",
    "Tip: you can use the following `Counter` functionality to generate frequency list of a list:"
   ]
  },
  {
   "cell_type": "code",
   "execution_count": 16,
   "metadata": {},
   "outputs": [
    {
     "data": {
      "text/plain": [
       "Counter({1: 2, 2: 2, 3: 1, 5: 1})"
      ]
     },
     "execution_count": 16,
     "metadata": {},
     "output_type": "execute_result"
    }
   ],
   "source": [
    "from collections import Counter \n",
    "\n",
    "my_list=[1,2,1,3,2,5]\n",
    "Counter(my_list)\n"
   ]
  },
  {
   "cell_type": "code",
   "execution_count": 17,
   "metadata": {},
   "outputs": [
    {
     "name": "stdout",
     "output_type": "stream",
     "text": [
      "\n",
      "Train:\n",
      "Number of instances: 203621\n",
      "\n",
      "Frequency distribution of NERC labels:\n",
      "B-ORG: 6321\n",
      "O: 169578\n",
      "B-MISC: 3438\n",
      "B-PER: 6600\n",
      "I-PER: 4528\n",
      "B-LOC: 7140\n",
      "I-ORG: 3704\n",
      "I-MISC: 1155\n",
      "I-LOC: 1157\n",
      "\n",
      "Dstribution of NERC labels (in percentage):\n",
      "B-ORG: 3.10%\n",
      "O: 83.28%\n",
      "B-MISC: 1.69%\n",
      "B-PER: 3.24%\n",
      "I-PER: 2.22%\n",
      "B-LOC: 3.51%\n",
      "I-ORG: 1.82%\n",
      "I-MISC: 0.57%\n",
      "I-LOC: 0.57%\n",
      "\n",
      "Test:\n",
      "Number of instances: 46435\n",
      "\n",
      "Frequency distribution of NERC labels:\n",
      "O: 38323\n",
      "B-LOC: 1668\n",
      "B-PER: 1617\n",
      "I-PER: 1156\n",
      "I-LOC: 257\n",
      "B-MISC: 702\n",
      "I-MISC: 216\n",
      "B-ORG: 1661\n",
      "I-ORG: 835\n",
      "\n",
      "Dstribution of NERC labels (in percentage):\n",
      "O: 82.53%\n",
      "B-LOC: 3.59%\n",
      "B-PER: 3.48%\n",
      "I-PER: 2.49%\n",
      "I-LOC: 0.55%\n",
      "B-MISC: 1.51%\n",
      "I-MISC: 0.47%\n",
      "B-ORG: 3.58%\n",
      "I-ORG: 1.80%\n"
     ]
    }
   ],
   "source": [
    "from collections import Counter \n",
    "\n",
    "path = 'C:/Users/djiob/Documents/GitHub/ba-text-mining-gr43/lab_sessions/lab4/CONLL2003/CONLL2003'\n",
    "\n",
    "train = ConllCorpusReader(path, 'train.txt', ['words', 'pos', 'ignore', 'chunk'])\n",
    "test = ConllCorpusReader(path, 'test.txt', ['words', 'pos', 'ignore', 'chunk'])\n",
    "\n",
    "def count_labels(data):\n",
    "    \n",
    "    labels = []\n",
    "    for token, pos, ne_label in data.iob_words():\n",
    "        labels.append(ne_label)\n",
    "    return labels, Counter(labels)\n",
    "\n",
    "def calculate_percentages(label_counts, total):\n",
    "    print(\"\\nDstribution of NERC labels (in percentage):\")\n",
    "    for label, count in label_counts.items():\n",
    "        percentage = (count / total) * 100\n",
    "        print(f\"{label}: {percentage:.2f}%\")\n",
    "\n",
    "def get_statistics(data, name):\n",
    "    print(f\"\\n{name}:\")\n",
    "    \n",
    "    labels, label_counts = count_labels(data)\n",
    "    num_instances = len(labels)\n",
    "\n",
    "    print(f\"Number of instances: {num_instances}\")\n",
    "    \n",
    "    print(\"\\nFrequency distribution of NERC labels:\")\n",
    "    for label, count in label_counts.items():\n",
    "        print(f\"{label}: {count}\")\n",
    "\n",
    "    calculate_percentages(label_counts, num_instances)\n",
    "\n",
    "get_statistics(train, \"Train\")\n",
    "get_statistics(test, \"Test\")"
   ]
  },
  {
   "cell_type": "markdown",
   "metadata": {},
   "source": [
    "Answers:\n",
    "\n",
    "- There are 203621 instances of training data, and 46435 of testing, as it can be seen from the output of the cell below.\n",
    "- The frequency distibution can also be seen in the output of the cell below, which for training data is:\n",
    "B-ORG: 6321\n",
    "\n",
    "O: 169578\n",
    "\n",
    "B-MISC: 3438\n",
    "\n",
    "B-PER: 6600\n",
    "\n",
    "I-PER: 4528\n",
    "\n",
    "B-LOC: 7140\n",
    "\n",
    "I-ORG: 3704\n",
    "\n",
    "I-MISC: 1155\n",
    "\n",
    "I-LOC: 1157\n",
    "\n",
    "and for test data is:\n",
    "\n",
    "O: 38323\n",
    "\n",
    "B-LOC: 1668\n",
    "\n",
    "B-PER: 1617\n",
    "\n",
    "I-PER: 1156\n",
    "\n",
    "I-LOC: 257\n",
    "\n",
    "B-MISC: 702\n",
    "\n",
    "I-MISC: 216\n",
    "\n",
    "B-ORG: 1661\n",
    "\n",
    "I-ORG: 835\n",
    "\n",
    "- The part with percentage count in the output of the cell below clearly indicates the imbalance of training and test data when looking at them separately. For both test and train data, the \"O\" label, which is used to label the words that are not a part of any category of named entity, dominates with 83.28% and 82.53%, respectively. This can lead to biases in the model and incorrect labeling. And looking at percentage of labels that start with I or B and comparing them, we can see that in general, NERC labels that start with B ahave higher percentages, which means that the most named entities are shorter rather than longer. If comparing test and training data with each other, they do have similar percentages for the same labels, not having differences of more than ~1%, some of them having a difference only of 0.02% (for example I-LOC, with 0.57% and 0.55%)."
   ]
  },
  {
   "cell_type": "markdown",
   "metadata": {},
   "source": [
    "**[2 points] c) Concatenate the train and test features (the list of dictionaries) into one list. Load it using the *DictVectorizer*. Afterwards, split it back to training and test.**\n",
    "\n",
    "Tip: You’ve concatenated train and test into one list and then you’ve applied the DictVectorizer.\n",
    "The order of the rows is maintained. You can hence use an index (number of training instances) to split the_array back into train and test. Do NOT use: `\n",
    "from sklearn.model_selection import train_test_split` here.\n"
   ]
  },
  {
   "cell_type": "code",
   "execution_count": 18,
   "metadata": {},
   "outputs": [],
   "source": [
    "from sklearn.feature_extraction import DictVectorizer"
   ]
  },
  {
   "cell_type": "code",
   "execution_count": 19,
   "metadata": {},
   "outputs": [
    {
     "name": "stdout",
     "output_type": "stream",
     "text": [
      "Training examples: 203621\n",
      "Test examples: 46435\n"
     ]
    }
   ],
   "source": [
    "path = 'C:/Users/djiob/Documents/GitHub/ba-text-mining-gr43/lab_sessions/lab4/CONLL2003/CONLL2003'\n",
    "reader = ConllCorpusReader(path, ['train.txt', 'test.txt', 'valid.txt'], ['words', 'pos', 'ignore', 'chunk'])\n",
    "\n",
    "training_features = []\n",
    "training_labels = []\n",
    "\n",
    "for token, pos, ne_label in reader.iob_words('train.txt'):\n",
    "    training_features.append({'words': token, 'pos': pos})\n",
    "    training_labels.append(ne_label)\n",
    "\n",
    "test_features = []\n",
    "test_labels = []\n",
    "\n",
    "for token, pos, ne_label in reader.iob_words('test.txt'):\n",
    "    test_features.append({'words': token, 'pos': pos})\n",
    "    test_labels.append(ne_label)\n",
    "\n",
    "print(f\"Training examples: {len(training_features)}\")\n",
    "print(f\"Test examples: {len(test_features)}\")"
   ]
  },
  {
   "cell_type": "code",
   "execution_count": 20,
   "metadata": {},
   "outputs": [
    {
     "name": "stdout",
     "output_type": "stream",
     "text": [
      "Train array shape: (203621, 27361)\n",
      "Test array shape: (46435, 27361)\n"
     ]
    }
   ],
   "source": [
    "all_features = training_features + test_features\n",
    "\n",
    "vec = DictVectorizer()\n",
    "the_array = vec.fit_transform(all_features)\n",
    "\n",
    "num_train = len(training_features)\n",
    "train_array = the_array[:num_train]\n",
    "test_array = the_array[num_train:]\n",
    "\n",
    "print(\"Train array shape:\", train_array.shape)\n",
    "print(\"Test array shape:\", test_array.shape)"
   ]
  },
  {
   "cell_type": "markdown",
   "metadata": {},
   "source": [
    "**[4 points] d) Train the SVM using the train features and labels and evaluate on the test data. Provide a classification report (sklearn.metrics.classification_report).**\n",
    "The train (*lin_clf.fit*) might take a while. On my computer, it took 1min 53s, which is acceptable. Training models normally takes much longer. If it takes more than 5 minutes, you can use a subset for training. Describe the results:\n",
    "* Which NERC labels does the classifier perform well on? Why do you think this is the case?\n",
    "* Which NERC labels does the classifier perform poorly on? Why do you think this is the case?"
   ]
  },
  {
   "cell_type": "code",
   "execution_count": 21,
   "metadata": {},
   "outputs": [],
   "source": [
    "from sklearn import svm\n",
    "from sklearn.metrics import classification_report"
   ]
  },
  {
   "cell_type": "code",
   "execution_count": 22,
   "metadata": {},
   "outputs": [],
   "source": [
    "lin_clf = svm.LinearSVC()"
   ]
  },
  {
   "cell_type": "code",
   "execution_count": 23,
   "metadata": {},
   "outputs": [
    {
     "name": "stderr",
     "output_type": "stream",
     "text": [
      "c:\\Users\\djiob\\AppData\\Local\\Programs\\Python\\Python312\\Lib\\site-packages\\sklearn\\svm\\_classes.py:31: FutureWarning: The default value of `dual` will change from `True` to `'auto'` in 1.5. Set the value of `dual` explicitly to suppress the warning.\n",
      "  warnings.warn(\n"
     ]
    },
    {
     "name": "stdout",
     "output_type": "stream",
     "text": [
      "              precision    recall  f1-score   support\n",
      "\n",
      "       B-LOC       0.81      0.78      0.79      1668\n",
      "      B-MISC       0.78      0.66      0.72       702\n",
      "       B-ORG       0.79      0.52      0.63      1661\n",
      "       B-PER       0.86      0.44      0.58      1617\n",
      "       I-LOC       0.62      0.53      0.57       257\n",
      "      I-MISC       0.57      0.59      0.58       216\n",
      "       I-ORG       0.70      0.47      0.56       835\n",
      "       I-PER       0.33      0.87      0.48      1156\n",
      "           O       0.98      0.98      0.98     38323\n",
      "\n",
      "    accuracy                           0.92     46435\n",
      "   macro avg       0.72      0.65      0.65     46435\n",
      "weighted avg       0.94      0.92      0.92     46435\n",
      "\n"
     ]
    }
   ],
   "source": [
    "all_features = training_features + test_features\n",
    "all_labels = training_labels + test_labels\n",
    "\n",
    "vec = DictVectorizer()\n",
    "X_all = vec.fit_transform(all_features)\n",
    "\n",
    "X_train = X_all[:len(training_features)]\n",
    "X_test = X_all[len(training_features):]\n",
    "\n",
    "y_train = training_labels\n",
    "y_test = test_labels\n",
    "\n",
    "lin_clf.fit(X_train, y_train)\n",
    "\n",
    "y_pred = lin_clf.predict(X_test)\n",
    "\n",
    "print(classification_report(y_test, y_pred))\n"
   ]
  },
  {
   "cell_type": "markdown",
   "metadata": {},
   "source": [
    "### Answers:\n",
    "* <u>Which NERC labels does the classifier perform well on? Why do you think this is the case?</u>\n",
    "    \n",
    "    The classifier performs well on O labels, probably getting a high F1-score because there is a lot of them available and they're easy to tell from named entities. It also performs well on B-LOC and B-MISC, likely because locations and miscellaneous entities follow recognizable patterns.\n",
    "\n",
    "* <u>Which NERC labels does the classifier perform poorly on? Why do you think this is the case?</u>\n",
    "    \n",
    "    However, it struggles with inside entity labels, especially I-PER, which has high recall but low precision, indicating over-prediction. B-PER also has low recall, meaning many person names are missed. This is likely due to the variability of personal names and insufficient training data for certain entities."
   ]
  },
  {
   "cell_type": "markdown",
   "metadata": {},
   "source": [
    "**[6 points] e) Train a model that uses the embeddings of these words as inputs. Test again on the same data as in 2d. Generate a classification report and compare the results with the classifier you built in 2d.**"
   ]
  },
  {
   "cell_type": "code",
   "execution_count": 27,
   "metadata": {},
   "outputs": [
    {
     "name": "stdout",
     "output_type": "stream",
     "text": [
      "Loading GloVe embeddings...\n",
      "Training SVM...\n"
     ]
    },
    {
     "name": "stderr",
     "output_type": "stream",
     "text": [
      "c:\\Users\\djiob\\AppData\\Local\\Programs\\Python\\Python312\\Lib\\site-packages\\sklearn\\svm\\_classes.py:31: FutureWarning: The default value of `dual` will change from `True` to `'auto'` in 1.5. Set the value of `dual` explicitly to suppress the warning.\n",
      "  warnings.warn(\n"
     ]
    },
    {
     "name": "stdout",
     "output_type": "stream",
     "text": [
      "Classification Report:\n",
      "              precision    recall  f1-score   support\n",
      "\n",
      "       B-LOC       0.81      0.78      0.79      1668\n",
      "      B-MISC       0.78      0.66      0.72       702\n",
      "       B-ORG       0.79      0.52      0.63      1661\n",
      "       B-PER       0.86      0.44      0.58      1617\n",
      "       I-LOC       0.62      0.53      0.57       257\n",
      "      I-MISC       0.57      0.59      0.58       216\n",
      "       I-ORG       0.70      0.47      0.56       835\n",
      "       I-PER       0.33      0.87      0.48      1156\n",
      "           O       0.98      0.98      0.98     38323\n",
      "\n",
      "    accuracy                           0.92     46435\n",
      "   macro avg       0.72      0.65      0.65     46435\n",
      "weighted avg       0.94      0.92      0.92     46435\n",
      "\n"
     ]
    }
   ],
   "source": [
    "import numpy as np\n",
    "import gensim.downloader as api\n",
    "from sklearn.svm import LinearSVC\n",
    "from sklearn.metrics import classification_report\n",
    "from sklearn.preprocessing import LabelEncoder\n",
    "\n",
    "# Load GloVe embeddings\n",
    "print(\"Loading GloVe embeddings...\")\n",
    "glove_model = api.load(\"glove-wiki-gigaword-50\")  # Using 50D embeddings\n",
    "\n",
    "# Function to get word embeddings\n",
    "def get_embedding(word):\n",
    "    return glove_model[word] if word in glove_model else np.zeros(50)  # 50D zero vector for OOV words\n",
    "\n",
    "# Assume 'train_data' and 'test_data' are lists of words from the dataset\n",
    "# Assume 'train_labels' and 'test_labels' are corresponding NERC labels\n",
    "\n",
    "# Convert words to embeddings\n",
    "X_train = X_all[:len(training_features)]\n",
    "X_test = X_all[len(training_features):]\n",
    "\n",
    "# Encode labels\n",
    "y_encoder = LabelEncoder()\n",
    "y_train = y_encoder.fit_transform(training_labels)\n",
    "y_test = y_encoder.transform(test_labels)\n",
    "\n",
    "# Train SVM classifier\n",
    "print(\"Training SVM...\")\n",
    "svm_clf = LinearSVC()\n",
    "svm_clf.fit(X_train, y_train)\n",
    "\n",
    "# Predictions\n",
    "y_pred = svm_clf.predict(X_test)\n",
    "\n",
    "# Classification report\n",
    "print(\"Classification Report:\")\n",
    "print(classification_report(y_test, y_pred, target_names=y_encoder.classes_))"
   ]
  },
  {
   "cell_type": "code",
   "execution_count": 39,
   "metadata": {},
   "outputs": [],
   "source": [
    "# Answers\n",
    "#Comparing Results:\n",
    "    \n",
    "    #The results are identical and have no differences between them which could mean that these traditional features already captured enough information for NER, so adding word embedding didn't help. GloVe embedding might also not be well-suited for entity recognition because word embeddings focus on general semantic meaning but NER requires context information. Maybe the SVM model might not effectively leverage dense word embeddings compared to deep learning model like BiLTSMs or Transformers."
   ]
  },
  {
   "cell_type": "markdown",
   "metadata": {},
   "source": [
    "## [Points: 10] Exercise 2 (NERC): feature inspection using the [Annotated Corpus for Named Entity Recognition](https://www.kaggle.com/abhinavwalia95/entity-annotated-corpus)\n",
    "**[6 points] a. Perform the same steps as in the previous exercise. Make sure you end up for both the training part (*df_train*) and the test part (*df_test*) with:**\n",
    "* the features representation using **DictVectorizer**\n",
    "* the NERC labels in a list\n",
    "\n",
    "Please note that this is the same setup as in the previous exercise:\n",
    "* load both train and test using:\n",
    "    * list of dictionaries for features\n",
    "    * list of NERC labels\n",
    "* combine train and test features in a list and represent them using one hot encoding\n",
    "* train using the training features and NERC labels"
   ]
  },
  {
   "cell_type": "code",
   "execution_count": 57,
   "metadata": {},
   "outputs": [],
   "source": [
    "import pandas\n"
   ]
  },
  {
   "cell_type": "code",
   "execution_count": 58,
   "metadata": {},
   "outputs": [],
   "source": [
    "##### Adapt the path to point to your local copy of NERC_datasets\n",
    "path = 'C:/Users/lisam/OneDrive/Year 3/Period 4/Text Mining/ba-text-mining-gr43/lab_sessions/lab4/ner_dataset.csv'\n",
    "kaggle_dataset = pandas.read_csv(path, encoding='latin1',       on_bad_lines='skip')"
   ]
  },
  {
   "cell_type": "code",
   "execution_count": 59,
   "metadata": {},
   "outputs": [
    {
     "data": {
      "text/plain": [
       "1048575"
      ]
     },
     "execution_count": 59,
     "metadata": {},
     "output_type": "execute_result"
    }
   ],
   "source": [
    "len(kaggle_dataset)"
   ]
  },
  {
   "cell_type": "code",
   "execution_count": 60,
   "metadata": {},
   "outputs": [
    {
     "name": "stdout",
     "output_type": "stream",
     "text": [
      "100000 20000\n"
     ]
    }
   ],
   "source": [
    "df_train = kaggle_dataset[:100000]\n",
    "df_test = kaggle_dataset[100000:120000]\n",
    "print(len(df_train), len(df_test))"
   ]
  },
  {
   "cell_type": "code",
   "execution_count": 61,
   "metadata": {},
   "outputs": [],
   "source": [
    "def create_features_and_labels(data):\n",
    "    features = []\n",
    "    labels = []\n",
    "    \n",
    "    for _, row in data.iterrows():\n",
    "        word = row['Word']\n",
    "        pos = row['POS']\n",
    "        ne_label = row['Tag']\n",
    "        \n",
    "        \n",
    "        feature_dict = {'word': word, 'pos': pos}\n",
    "        features.append(feature_dict)\n",
    "        labels.append(ne_label)\n",
    "    \n",
    "    return features, labels\n",
    "\n",
    "\n",
    "train_features, train_labels = create_features_and_labels(df_train)\n",
    "test_features, test_labels = create_features_and_labels(df_test)"
   ]
  },
  {
   "cell_type": "code",
   "execution_count": 62,
   "metadata": {},
   "outputs": [],
   "source": [
    "from sklearn.feature_extraction import DictVectorizer\n",
    "\n",
    "\n",
    "all_features = train_features + test_features\n",
    "\n",
    "vectorizer = DictVectorizer(sparse=False)\n",
    "all_features_vectorized = vectorizer.fit_transform(all_features)\n",
    "train_features_vectorized = all_features_vectorized[:len(train_features)]\n",
    "test_features_vectorized = all_features_vectorized[len(train_features):]"
   ]
  },
  {
   "cell_type": "code",
   "execution_count": null,
   "metadata": {},
   "outputs": [
    {
     "name": "stdout",
     "output_type": "stream",
     "text": [
      "[LibSVM]"
     ]
    }
   ],
   "source": [
    "from sklearn.svm import SVC\n",
    "\n",
    "\n",
    "svm_classifier = SVC(kernel='linear', verbose=True)\n",
    "svm_classifier.fit(train_features_vectorized, train_labels)"
   ]
  },
  {
   "cell_type": "markdown",
   "metadata": {},
   "source": [
    "**[4 points] b. Train and evaluate the model and provide the classification report:**\n",
    "* use the SVM to predict NERC labels on the test data\n",
    "* evaluate the performance of the SVM on the test data\n",
    "\n",
    "Analyze the performance per NERC label."
   ]
  },
  {
   "cell_type": "code",
   "execution_count": null,
   "metadata": {},
   "outputs": [],
   "source": [
    "from sklearn.metrics import classification_report\n",
    "\n",
    "\n",
    "test_predictions = svm_classifier.predict(test_features_vectorized)\n",
    "print(classification_report(test_labels, test_predictions))"
   ]
  },
  {
   "cell_type": "markdown",
   "metadata": {},
   "source": [
    "## End of this notebook"
   ]
  }
 ],
 "metadata": {
  "kernelspec": {
   "display_name": "TextMining",
   "language": "python",
   "name": "python3"
  },
  "language_info": {
   "codemirror_mode": {
    "name": "ipython",
    "version": 3
   },
   "file_extension": ".py",
   "mimetype": "text/x-python",
   "name": "python",
   "nbconvert_exporter": "python",
   "pygments_lexer": "ipython3",
   "version": "3.10.11"
  }
 },
 "nbformat": 4,
 "nbformat_minor": 4
}
